{
  "cells": [
    {
      "cell_type": "markdown",
      "id": "ce767a4e",
      "metadata": {
        "id": "ce767a4e"
      },
      "source": [
        "## 1. Import Library"
      ]
    },
    {
      "cell_type": "code",
      "execution_count": 1,
      "id": "z9o7cBtoXbHp",
      "metadata": {
        "colab": {
          "base_uri": "https://localhost:8080/"
        },
        "id": "z9o7cBtoXbHp",
        "outputId": "1628040e-debe-4391-c9d3-96ca4ea8e0a7"
      },
      "outputs": [
        {
          "output_type": "stream",
          "name": "stdout",
          "text": [
            "Drive already mounted at /content/drive; to attempt to forcibly remount, call drive.mount(\"/content/drive\", force_remount=True).\n"
          ]
        }
      ],
      "source": [
        "from google.colab import drive\n",
        "drive.mount('/content/drive')"
      ]
    },
    {
      "cell_type": "code",
      "execution_count": 2,
      "id": "5d2c0414",
      "metadata": {
        "id": "5d2c0414"
      },
      "outputs": [],
      "source": [
        "import os, shutil\n",
        "import random\n",
        "from sklearn.model_selection import train_test_split\n",
        "from tensorflow.keras.preprocessing.image import ImageDataGenerator\n",
        "import tensorflow as tf\n",
        "from tensorflow.keras.models import Sequential\n",
        "from tensorflow.keras.layers import Conv2D, MaxPooling2D, Flatten, Dense, Dropout\n",
        "import matplotlib.pyplot as plt\n",
        "from sklearn.metrics import classification_report, confusion_matrix\n",
        "import numpy as np\n",
        "import seaborn as sns\n",
        "from tensorflow.keras.callbacks import EarlyStopping, ReduceLROnPlateau"
      ]
    },
    {
      "cell_type": "markdown",
      "id": "35d4f958",
      "metadata": {
        "id": "35d4f958"
      },
      "source": [
        "## 2. Load Dataset dan Split"
      ]
    },
    {
      "cell_type": "code",
      "execution_count": 3,
      "id": "3fab870a",
      "metadata": {
        "id": "3fab870a"
      },
      "outputs": [],
      "source": [
        "# 1. SETUP PATH DAN PARAMETER\n",
        "source_dir = \"/content/drive/MyDrive/Alzheimers_Detection_dataset\"\n",
        "base_dir = \"/content/dataset_split\"\n",
        "os.makedirs(base_dir, exist_ok=True)\n",
        "split_ratio = [0.7, 0.15, 0.15]  # Train, Val, Test\n",
        "\n",
        "train_dir = os.path.join(base_dir, \"train\")\n",
        "val_dir = os.path.join(base_dir, \"val\")\n",
        "test_dir = os.path.join(base_dir, \"test\")\n",
        "\n",
        "if not os.path.exists(train_dir):\n",
        "    from tqdm import tqdm\n",
        "\n",
        "    # Ensure base directories exist\n",
        "    os.makedirs(train_dir, exist_ok=True)\n",
        "    os.makedirs(val_dir, exist_ok=True)\n",
        "    os.makedirs(test_dir, exist_ok=True)\n",
        "\n",
        "    successful_train_classes = []\n",
        "\n",
        "    for class_name in tqdm(os.listdir(source_dir)):\n",
        "        class_path = os.path.join(source_dir, class_name)\n",
        "        if not os.path.isdir(class_path):\n",
        "            continue\n",
        "\n",
        "        images = [f for f in os.listdir(class_path) if f.lower().endswith(('jpg', 'jpeg', 'png'))]\n",
        "        n_samples = len(images)\n",
        "\n",
        "        # Calculate the number of samples for each split\n",
        "        n_train = int(n_samples * split_ratio[0])\n",
        "        n_val = int(n_samples * split_ratio[1])\n",
        "        n_test = n_samples - n_train - n_val\n",
        "\n",
        "        # Skip classes with insufficient images for splitting into non-empty sets\n",
        "        if n_train == 0 or n_val == 0 or n_test == 0:\n",
        "            print(f\"Skipping class '{class_name}' due to insufficient images ({len(images)}) for splitting with the current ratio.\")\n",
        "            continue\n",
        "\n",
        "        # If a class has enough images, split and copy them\n",
        "        train_files, temp_files = train_test_split(images, train_size=n_train, test_size=(n_val + n_test), random_state=42)\n",
        "        val_files, test_files = train_test_split(temp_files, train_size=n_val, test_size=n_test, random_state=42)\n",
        "\n",
        "        # Create class directories in each split and copy files\n",
        "        for split, file_list in zip(['train', 'val', 'test'], [train_files, val_files, test_files]):\n",
        "            split_class_dir = os.path.join(base_dir, split, class_name)\n",
        "            os.makedirs(split_class_dir, exist_ok=True)\n",
        "            for file in file_list:\n",
        "                shutil.copy(os.path.join(class_path, file), os.path.join(split_class_dir, file))\n",
        "\n",
        "        # Add the class to the list of successful training classes\n",
        "        successful_train_classes.append(class_name)\n",
        "\n",
        "    # Clean up directories for classes that didn't make it into training\n",
        "    for split_dir in [val_dir, test_dir]:\n",
        "        for class_name in os.listdir(split_dir):\n",
        "            if class_name not in successful_train_classes:\n",
        "                class_to_remove = os.path.join(split_dir, class_name)\n",
        "                shutil.rmtree(class_to_remove)\n",
        "                print(f\"Removed class '{class_name}' from {split_dir} as it was not in the training set.\")"
      ]
    },
    {
      "cell_type": "markdown",
      "id": "LnURGmQjkunw",
      "metadata": {
        "id": "LnURGmQjkunw"
      },
      "source": [
        "# DATA GENERATORS DENGAN AUGMENTASI"
      ]
    },
    {
      "cell_type": "code",
      "execution_count": 4,
      "id": "_-mEPfLKks8T",
      "metadata": {
        "colab": {
          "base_uri": "https://localhost:8080/"
        },
        "id": "_-mEPfLKks8T",
        "outputId": "a23cc113-c5ae-456d-83dc-1705a94932f0"
      },
      "outputs": [
        {
          "output_type": "stream",
          "name": "stdout",
          "text": [
            "Found 988 images belonging to 2 classes.\n",
            "Found 192 images belonging to 2 classes.\n",
            "Found 192 images belonging to 2 classes.\n"
          ]
        }
      ],
      "source": [
        "# 3. DATA GENERATORS DENGAN AUGMENTASI\n",
        "img_width, img_height = 224, 224\n",
        "0\n",
        "batch_size = 32\n",
        "\n",
        "train_datagen = ImageDataGenerator(\n",
        "    rescale=1./255,\n",
        "    rotation_range=20,\n",
        "    width_shift_range=0.2,\n",
        "    height_shift_range=0.2,\n",
        "    shear_range=0.2,\n",
        "    zoom_range=0.2,\n",
        "    horizontal_flip=True,\n",
        "    fill_mode='nearest'\n",
        ")\n",
        "\n",
        "val_datagen = ImageDataGenerator(rescale=1./255)\n",
        "test_datagen = ImageDataGenerator(rescale=1./255)\n",
        "\n",
        "# Get the list of class names from the training directory after splitting\n",
        "train_classes = sorted(os.listdir(os.path.join(base_dir, \"train\")))\n",
        "\n",
        "train_generator = train_datagen.flow_from_directory(\n",
        "    os.path.join(base_dir, \"train\"),\n",
        "    target_size=(img_width, img_height),\n",
        "    batch_size=batch_size,\n",
        "    class_mode='categorical',\n",
        "    classes=train_classes # Explicitly set classes\n",
        ")\n",
        "\n",
        "val_generator = val_datagen.flow_from_directory(\n",
        "    os.path.join(base_dir, \"val\"),\n",
        "    target_size=(img_width, img_height),\n",
        "    batch_size=batch_size,\n",
        "    class_mode='categorical',\n",
        "    classes=train_classes, # Explicitly set classes\n",
        "    shuffle=False # Keep order for evaluation consistency with test set\n",
        ")\n",
        "\n",
        "test_generator = test_datagen.flow_from_directory(\n",
        "    os.path.join(base_dir, \"test\"),\n",
        "    target_size=(img_width, img_height),\n",
        "    batch_size=batch_size,\n",
        "    class_mode='categorical',\n",
        "    classes=train_classes, # Explicitly set classes\n",
        "    shuffle=False  # Keep data in order for evaluation\n",
        ")"
      ]
    },
    {
      "cell_type": "markdown",
      "id": "b1866001",
      "metadata": {
        "id": "b1866001"
      },
      "source": [
        "## 3. Build Model CNN"
      ]
    },
    {
      "cell_type": "code",
      "execution_count": 5,
      "id": "35ac3b90",
      "metadata": {
        "id": "35ac3b90",
        "colab": {
          "base_uri": "https://localhost:8080/"
        },
        "outputId": "92b3c833-3218-445e-fb08-24d6c22af45e"
      },
      "outputs": [
        {
          "output_type": "stream",
          "name": "stderr",
          "text": [
            "/usr/local/lib/python3.11/dist-packages/keras/src/layers/convolutional/base_conv.py:107: UserWarning: Do not pass an `input_shape`/`input_dim` argument to a layer. When using Sequential models, prefer using an `Input(shape)` object as the first layer in the model instead.\n",
            "  super().__init__(activity_regularizer=activity_regularizer, **kwargs)\n"
          ]
        }
      ],
      "source": [
        "# 4. BUILD MODEL CNN\n",
        "model = Sequential([\n",
        "    Conv2D(32, (3, 3), activation='relu', input_shape=(img_width, img_height, 3)),\n",
        "    MaxPooling2D(2, 2),\n",
        "    Conv2D(64, (3, 3), activation='relu'),\n",
        "    MaxPooling2D(2, 2),\n",
        "    Flatten(),\n",
        "    Dense(256, activation='relu'),\n",
        "    Dropout(0.5),\n",
        "    Dense(train_generator.num_classes, activation='softmax')\n",
        "])\n",
        "\n",
        "model.compile(optimizer='adam', loss='categorical_crossentropy', metrics=['accuracy'])"
      ]
    },
    {
      "cell_type": "markdown",
      "id": "0b9dd17d",
      "metadata": {
        "id": "0b9dd17d"
      },
      "source": [
        "## 4. Compile dan Train Model"
      ]
    },
    {
      "cell_type": "code",
      "execution_count": 6,
      "id": "e2898813",
      "metadata": {
        "colab": {
          "base_uri": "https://localhost:8080/"
        },
        "id": "e2898813",
        "outputId": "5726b24c-e4be-481c-9344-ee18ded2af1d"
      },
      "outputs": [
        {
          "output_type": "stream",
          "name": "stderr",
          "text": [
            "/usr/local/lib/python3.11/dist-packages/keras/src/trainers/data_adapters/py_dataset_adapter.py:121: UserWarning: Your `PyDataset` class should call `super().__init__(**kwargs)` in its constructor. `**kwargs` can include `workers`, `use_multiprocessing`, `max_queue_size`. Do not pass these arguments to `fit()`, as they will be ignored.\n",
            "  self._warn_if_super_not_called()\n"
          ]
        },
        {
          "output_type": "stream",
          "name": "stdout",
          "text": [
            "Epoch 1/30\n",
            "\u001b[1m31/31\u001b[0m \u001b[32m━━━━━━━━━━━━━━━━━━━━\u001b[0m\u001b[37m\u001b[0m \u001b[1m122s\u001b[0m 4s/step - accuracy: 0.7073 - loss: 2.4840 - val_accuracy: 1.0000 - val_loss: 0.2012 - learning_rate: 0.0010\n",
            "Epoch 2/30\n",
            "\u001b[1m31/31\u001b[0m \u001b[32m━━━━━━━━━━━━━━━━━━━━\u001b[0m\u001b[37m\u001b[0m \u001b[1m133s\u001b[0m 3s/step - accuracy: 0.9023 - loss: 0.3394 - val_accuracy: 1.0000 - val_loss: 0.0501 - learning_rate: 0.0010\n",
            "Epoch 3/30\n",
            "\u001b[1m31/31\u001b[0m \u001b[32m━━━━━━━━━━━━━━━━━━━━\u001b[0m\u001b[37m\u001b[0m \u001b[1m106s\u001b[0m 3s/step - accuracy: 0.9229 - loss: 0.2766 - val_accuracy: 1.0000 - val_loss: 0.0401 - learning_rate: 0.0010\n",
            "Epoch 4/30\n",
            "\u001b[1m31/31\u001b[0m \u001b[32m━━━━━━━━━━━━━━━━━━━━\u001b[0m\u001b[37m\u001b[0m \u001b[1m110s\u001b[0m 3s/step - accuracy: 0.9133 - loss: 0.3143 - val_accuracy: 1.0000 - val_loss: 0.0673 - learning_rate: 0.0010\n",
            "Epoch 5/30\n",
            "\u001b[1m31/31\u001b[0m \u001b[32m━━━━━━━━━━━━━━━━━━━━\u001b[0m\u001b[37m\u001b[0m \u001b[1m118s\u001b[0m 4s/step - accuracy: 0.9104 - loss: 0.3069 - val_accuracy: 1.0000 - val_loss: 0.1115 - learning_rate: 0.0010\n",
            "Epoch 6/30\n",
            "\u001b[1m31/31\u001b[0m \u001b[32m━━━━━━━━━━━━━━━━━━━━\u001b[0m\u001b[37m\u001b[0m \u001b[1m0s\u001b[0m 3s/step - accuracy: 0.9000 - loss: 0.3412\n",
            "Epoch 6: ReduceLROnPlateau reducing learning rate to 0.0003000000142492354.\n",
            "\u001b[1m31/31\u001b[0m \u001b[32m━━━━━━━━━━━━━━━━━━━━\u001b[0m\u001b[37m\u001b[0m \u001b[1m107s\u001b[0m 3s/step - accuracy: 0.9002 - loss: 0.3408 - val_accuracy: 1.0000 - val_loss: 0.0477 - learning_rate: 0.0010\n",
            "Epoch 6: early stopping\n",
            "Restoring model weights from the end of the best epoch: 1.\n"
          ]
        }
      ],
      "source": [
        "early_stop = EarlyStopping(monitor='val_accuracy', patience=5, restore_best_weights=True, verbose=1)\n",
        "reduce_lr = ReduceLROnPlateau(monitor='val_loss', factor=0.3, patience=3, verbose=1)\n",
        "\n",
        "# Latih model selama 30 epoch\n",
        "history = model.fit(\n",
        "    train_generator,\n",
        "    validation_data=val_generator,\n",
        "    epochs=30,\n",
        "    callbacks=[early_stop, reduce_lr]\n",
        ")"
      ]
    },
    {
      "cell_type": "markdown",
      "id": "3e0d35b1",
      "metadata": {
        "id": "3e0d35b1"
      },
      "source": [
        "## 5. Plot Akurasi dan Loss"
      ]
    },
    {
      "cell_type": "code",
      "execution_count": 7,
      "id": "a3c6807d",
      "metadata": {
        "colab": {
          "base_uri": "https://localhost:8080/",
          "height": 350
        },
        "id": "a3c6807d",
        "outputId": "5b2111c2-58ef-407e-c14b-15046ed71de3"
      },
      "outputs": [
        {
          "output_type": "display_data",
          "data": {
            "text/plain": [
              "<Figure size 1200x400 with 2 Axes>"
            ],
            "image/png": "[encoded data removed]"
          },
          "metadata": {}
        }
      ],
      "source": [
        "\n",
        "plt.figure(figsize=(12, 4))\n",
        "\n",
        "plt.subplot(1, 2, 1)\n",
        "plt.plot(history.history['accuracy'], label='Train')\n",
        "plt.plot(history.history['val_accuracy'], label='Validation')\n",
        "plt.title('Akurasi')\n",
        "plt.legend()\n",
        "\n",
        "plt.subplot(1, 2, 2)\n",
        "plt.plot(history.history['loss'], label='Train')\n",
        "plt.plot(history.history['val_loss'], label='Validation')\n",
        "plt.title('Loss')\n",
        "plt.legend()\n",
        "\n",
        "plt.tight_layout()\n",
        "plt.show()\n"
      ]
    },
    {
      "cell_type": "markdown",
      "id": "2sCJLL33gI7-",
      "metadata": {
        "id": "2sCJLL33gI7-"
      },
      "source": [
        "# EVALUASI"
      ]
    },
    {
      "cell_type": "code",
      "execution_count": 8,
      "id": "x5O1r7lAgIlO",
      "metadata": {
        "colab": {
          "base_uri": "https://localhost:8080/"
        },
        "id": "x5O1r7lAgIlO",
        "outputId": "cd617d74-e2d8-4030-fa22-383312ceb4b3"
      },
      "outputs": [
        {
          "output_type": "stream",
          "name": "stdout",
          "text": [
            "\n",
            "Evaluasi pada Training Set:\n",
            "\u001b[1m31/31\u001b[0m \u001b[32m━━━━━━━━━━━━━━━━━━━━\u001b[0m\u001b[37m\u001b[0m \u001b[1m36s\u001b[0m 1s/step - accuracy: 0.9060 - loss: 0.3444\n",
            "\n",
            "Evaluasi pada Testing Set:\n",
            "\u001b[1m6/6\u001b[0m \u001b[32m━━━━━━━━━━━━━━━━━━━━\u001b[0m\u001b[37m\u001b[0m \u001b[1m4s\u001b[0m 651ms/step - accuracy: 1.0000 - loss: 0.2003\n"
          ]
        },
        {
          "output_type": "execute_result",
          "data": {
            "text/plain": [
              "[0.20158709585666656, 1.0]"
            ]
          },
          "metadata": {},
          "execution_count": 8
        }
      ],
      "source": [
        "print(\"\\nEvaluasi pada Training Set:\")\n",
        "model.evaluate(train_generator)\n",
        "\n",
        "print(\"\\nEvaluasi pada Testing Set:\")\n",
        "model.evaluate(test_generator)"
      ]
    },
    {
      "cell_type": "markdown",
      "id": "89a10761",
      "metadata": {
        "id": "89a10761"
      },
      "source": [
        "## 6. Simpan Model ke SavedModel, TFLite, TFJS"
      ]
    },
    {
      "cell_type": "code",
      "execution_count": 9,
      "id": "60ce8a88",
      "metadata": {
        "id": "60ce8a88",
        "colab": {
          "base_uri": "https://localhost:8080/"
        },
        "outputId": "ded8a1a5-665f-4b7b-aaa4-43f6ea3ddea8"
      },
      "outputs": [
        {
          "output_type": "stream",
          "name": "stdout",
          "text": [
            "Saved artifact at 'submission/saved_model'. The following endpoints are available:\n",
            "\n",
            "* Endpoint 'serve'\n",
            "  args_0 (POSITIONAL_ONLY): TensorSpec(shape=(None, 224, 224, 3), dtype=tf.float32, name='keras_tensor')\n",
            "Output Type:\n",
            "  TensorSpec(shape=(None, 2), dtype=tf.float32, name=None)\n",
            "Captures:\n",
            "  134241046125008: TensorSpec(shape=(), dtype=tf.resource, name=None)\n",
            "  134241046125776: TensorSpec(shape=(), dtype=tf.resource, name=None)\n",
            "  134241046128080: TensorSpec(shape=(), dtype=tf.resource, name=None)\n",
            "  134241046125392: TensorSpec(shape=(), dtype=tf.resource, name=None)\n",
            "  134241046127504: TensorSpec(shape=(), dtype=tf.resource, name=None)\n",
            "  134241046129808: TensorSpec(shape=(), dtype=tf.resource, name=None)\n",
            "  134241046129616: TensorSpec(shape=(), dtype=tf.resource, name=None)\n",
            "  134241046130000: TensorSpec(shape=(), dtype=tf.resource, name=None)\n"
          ]
        }
      ],
      "source": [
        "# SavedModel format\n",
        "model.export(\"submission/saved_model\")\n",
        "\n",
        "# TF Lite format\n",
        "converter = tf.lite.TFLiteConverter.from_saved_model(\"submission/saved_model\")\n",
        "tflite_model = converter.convert()\n",
        "os.makedirs(\"submission/tflite\", exist_ok=True)\n",
        "with open(\"submission/tflite/model.tflite\", \"wb\") as f:\n",
        "    f.write(tflite_model)\n",
        "\n",
        "# Simpan label.txt\n",
        "labels = list(train_generator.class_indices.keys())\n",
        "with open(\"submission/tflite/label.txt\", \"w\") as f:\n",
        "    for label in labels:\n",
        "        f.write(label + \"\\\\n\")\n"
      ]
    },
    {
      "cell_type": "code",
      "execution_count": 10,
      "id": "6b4a2da7",
      "metadata": {
        "id": "6b4a2da7",
        "colab": {
          "base_uri": "https://localhost:8080/"
        },
        "outputId": "e5cd8f1f-64ca-4736-b274-322e9e859ee9"
      },
      "outputs": [
        {
          "output_type": "stream",
          "name": "stdout",
          "text": [
            "Requirement already satisfied: tensorflowjs in /usr/local/lib/python3.11/dist-packages (4.22.0)\n",
            "Requirement already satisfied: flax>=0.7.2 in /usr/local/lib/python3.11/dist-packages (from tensorflowjs) (0.10.6)\n",
            "Requirement already satisfied: importlib_resources>=5.9.0 in /usr/local/lib/python3.11/dist-packages (from tensorflowjs) (6.5.2)\n",
            "Requirement already satisfied: jax>=0.4.13 in /usr/local/lib/python3.11/dist-packages (from tensorflowjs) (0.5.2)\n",
            "Requirement already satisfied: jaxlib>=0.4.13 in /usr/local/lib/python3.11/dist-packages (from tensorflowjs) (0.5.1)\n",
            "Requirement already satisfied: tensorflow<3,>=2.13.0 in /usr/local/lib/python3.11/dist-packages (from tensorflowjs) (2.18.0)\n",
            "Requirement already satisfied: tf-keras>=2.13.0 in /usr/local/lib/python3.11/dist-packages (from tensorflowjs) (2.18.0)\n",
            "Requirement already satisfied: tensorflow-decision-forests>=1.5.0 in /usr/local/lib/python3.11/dist-packages (from tensorflowjs) (1.11.0)\n",
            "Requirement already satisfied: six<2,>=1.16.0 in /usr/local/lib/python3.11/dist-packages (from tensorflowjs) (1.17.0)\n",
            "Requirement already satisfied: tensorflow-hub>=0.16.1 in /usr/local/lib/python3.11/dist-packages (from tensorflowjs) (0.16.1)\n",
            "Requirement already satisfied: packaging~=23.1 in /usr/local/lib/python3.11/dist-packages (from tensorflowjs) (23.2)\n",
            "Requirement already satisfied: numpy>=1.23.2 in /usr/local/lib/python3.11/dist-packages (from flax>=0.7.2->tensorflowjs) (2.0.2)\n",
            "Requirement already satisfied: msgpack in /usr/local/lib/python3.11/dist-packages (from flax>=0.7.2->tensorflowjs) (1.1.1)\n",
            "Requirement already satisfied: optax in /usr/local/lib/python3.11/dist-packages (from flax>=0.7.2->tensorflowjs) (0.2.5)\n",
            "Requirement already satisfied: orbax-checkpoint in /usr/local/lib/python3.11/dist-packages (from flax>=0.7.2->tensorflowjs) (0.11.16)\n",
            "Requirement already satisfied: tensorstore in /usr/local/lib/python3.11/dist-packages (from flax>=0.7.2->tensorflowjs) (0.1.74)\n",
            "Requirement already satisfied: rich>=11.1 in /usr/local/lib/python3.11/dist-packages (from flax>=0.7.2->tensorflowjs) (13.9.4)\n",
            "Requirement already satisfied: typing_extensions>=4.2 in /usr/local/lib/python3.11/dist-packages (from flax>=0.7.2->tensorflowjs) (4.14.0)\n",
            "Requirement already satisfied: PyYAML>=5.4.1 in /usr/local/lib/python3.11/dist-packages (from flax>=0.7.2->tensorflowjs) (6.0.2)\n",
            "Requirement already satisfied: treescope>=0.1.7 in /usr/local/lib/python3.11/dist-packages (from flax>=0.7.2->tensorflowjs) (0.1.9)\n",
            "Requirement already satisfied: ml_dtypes>=0.4.0 in /usr/local/lib/python3.11/dist-packages (from jax>=0.4.13->tensorflowjs) (0.4.1)\n",
            "Requirement already satisfied: opt_einsum in /usr/local/lib/python3.11/dist-packages (from jax>=0.4.13->tensorflowjs) (3.4.0)\n",
            "Requirement already satisfied: scipy>=1.11.1 in /usr/local/lib/python3.11/dist-packages (from jax>=0.4.13->tensorflowjs) (1.15.3)\n",
            "Requirement already satisfied: absl-py>=1.0.0 in /usr/local/lib/python3.11/dist-packages (from tensorflow<3,>=2.13.0->tensorflowjs) (1.4.0)\n",
            "Requirement already satisfied: astunparse>=1.6.0 in /usr/local/lib/python3.11/dist-packages (from tensorflow<3,>=2.13.0->tensorflowjs) (1.6.3)\n",
            "Requirement already satisfied: flatbuffers>=24.3.25 in /usr/local/lib/python3.11/dist-packages (from tensorflow<3,>=2.13.0->tensorflowjs) (25.2.10)\n",
            "Requirement already satisfied: gast!=0.5.0,!=0.5.1,!=0.5.2,>=0.2.1 in /usr/local/lib/python3.11/dist-packages (from tensorflow<3,>=2.13.0->tensorflowjs) (0.6.0)\n",
            "Requirement already satisfied: google-pasta>=0.1.1 in /usr/local/lib/python3.11/dist-packages (from tensorflow<3,>=2.13.0->tensorflowjs) (0.2.0)\n",
            "Requirement already satisfied: libclang>=13.0.0 in /usr/local/lib/python3.11/dist-packages (from tensorflow<3,>=2.13.0->tensorflowjs) (18.1.1)\n",
            "Requirement already satisfied: protobuf!=4.21.0,!=4.21.1,!=4.21.2,!=4.21.3,!=4.21.4,!=4.21.5,<6.0.0dev,>=3.20.3 in /usr/local/lib/python3.11/dist-packages (from tensorflow<3,>=2.13.0->tensorflowjs) (5.29.5)\n",
            "Requirement already satisfied: requests<3,>=2.21.0 in /usr/local/lib/python3.11/dist-packages (from tensorflow<3,>=2.13.0->tensorflowjs) (2.32.3)\n",
            "Requirement already satisfied: setuptools in /usr/local/lib/python3.11/dist-packages (from tensorflow<3,>=2.13.0->tensorflowjs) (75.2.0)\n",
            "Requirement already satisfied: termcolor>=1.1.0 in /usr/local/lib/python3.11/dist-packages (from tensorflow<3,>=2.13.0->tensorflowjs) (3.1.0)\n",
            "Requirement already satisfied: wrapt>=1.11.0 in /usr/local/lib/python3.11/dist-packages (from tensorflow<3,>=2.13.0->tensorflowjs) (1.17.2)\n",
            "Requirement already satisfied: grpcio<2.0,>=1.24.3 in /usr/local/lib/python3.11/dist-packages (from tensorflow<3,>=2.13.0->tensorflowjs) (1.73.1)\n",
            "Requirement already satisfied: tensorboard<2.19,>=2.18 in /usr/local/lib/python3.11/dist-packages (from tensorflow<3,>=2.13.0->tensorflowjs) (2.18.0)\n",
            "Requirement already satisfied: keras>=3.5.0 in /usr/local/lib/python3.11/dist-packages (from tensorflow<3,>=2.13.0->tensorflowjs) (3.8.0)\n",
            "Requirement already satisfied: h5py>=3.11.0 in /usr/local/lib/python3.11/dist-packages (from tensorflow<3,>=2.13.0->tensorflowjs) (3.14.0)\n",
            "Requirement already satisfied: tensorflow-io-gcs-filesystem>=0.23.1 in /usr/local/lib/python3.11/dist-packages (from tensorflow<3,>=2.13.0->tensorflowjs) (0.37.1)\n",
            "Requirement already satisfied: pandas in /usr/local/lib/python3.11/dist-packages (from tensorflow-decision-forests>=1.5.0->tensorflowjs) (2.2.2)\n",
            "Requirement already satisfied: wheel in /usr/local/lib/python3.11/dist-packages (from tensorflow-decision-forests>=1.5.0->tensorflowjs) (0.45.1)\n",
            "Requirement already satisfied: wurlitzer in /usr/local/lib/python3.11/dist-packages (from tensorflow-decision-forests>=1.5.0->tensorflowjs) (3.1.1)\n",
            "Requirement already satisfied: ydf in /usr/local/lib/python3.11/dist-packages (from tensorflow-decision-forests>=1.5.0->tensorflowjs) (0.12.0)\n",
            "Requirement already satisfied: namex in /usr/local/lib/python3.11/dist-packages (from keras>=3.5.0->tensorflow<3,>=2.13.0->tensorflowjs) (0.1.0)\n",
            "Requirement already satisfied: optree in /usr/local/lib/python3.11/dist-packages (from keras>=3.5.0->tensorflow<3,>=2.13.0->tensorflowjs) (0.16.0)\n",
            "Requirement already satisfied: charset-normalizer<4,>=2 in /usr/local/lib/python3.11/dist-packages (from requests<3,>=2.21.0->tensorflow<3,>=2.13.0->tensorflowjs) (3.4.2)\n",
            "Requirement already satisfied: idna<4,>=2.5 in /usr/local/lib/python3.11/dist-packages (from requests<3,>=2.21.0->tensorflow<3,>=2.13.0->tensorflowjs) (3.10)\n",
            "Requirement already satisfied: urllib3<3,>=1.21.1 in /usr/local/lib/python3.11/dist-packages (from requests<3,>=2.21.0->tensorflow<3,>=2.13.0->tensorflowjs) (2.4.0)\n",
            "Requirement already satisfied: certifi>=2017.4.17 in /usr/local/lib/python3.11/dist-packages (from requests<3,>=2.21.0->tensorflow<3,>=2.13.0->tensorflowjs) (2025.6.15)\n",
            "Requirement already satisfied: markdown-it-py>=2.2.0 in /usr/local/lib/python3.11/dist-packages (from rich>=11.1->flax>=0.7.2->tensorflowjs) (3.0.0)\n",
            "Requirement already satisfied: pygments<3.0.0,>=2.13.0 in /usr/local/lib/python3.11/dist-packages (from rich>=11.1->flax>=0.7.2->tensorflowjs) (2.19.2)\n",
            "Requirement already satisfied: markdown>=2.6.8 in /usr/local/lib/python3.11/dist-packages (from tensorboard<2.19,>=2.18->tensorflow<3,>=2.13.0->tensorflowjs) (3.8.2)\n",
            "Requirement already satisfied: tensorboard-data-server<0.8.0,>=0.7.0 in /usr/local/lib/python3.11/dist-packages (from tensorboard<2.19,>=2.18->tensorflow<3,>=2.13.0->tensorflowjs) (0.7.2)\n",
            "Requirement already satisfied: werkzeug>=1.0.1 in /usr/local/lib/python3.11/dist-packages (from tensorboard<2.19,>=2.18->tensorflow<3,>=2.13.0->tensorflowjs) (3.1.3)\n",
            "Requirement already satisfied: chex>=0.1.87 in /usr/local/lib/python3.11/dist-packages (from optax->flax>=0.7.2->tensorflowjs) (0.1.89)\n",
            "Requirement already satisfied: etils[epath,epy] in /usr/local/lib/python3.11/dist-packages (from orbax-checkpoint->flax>=0.7.2->tensorflowjs) (1.12.2)\n",
            "Requirement already satisfied: nest_asyncio in /usr/local/lib/python3.11/dist-packages (from orbax-checkpoint->flax>=0.7.2->tensorflowjs) (1.6.0)\n",
            "Requirement already satisfied: humanize in /usr/local/lib/python3.11/dist-packages (from orbax-checkpoint->flax>=0.7.2->tensorflowjs) (4.12.3)\n",
            "Requirement already satisfied: simplejson>=3.16.0 in /usr/local/lib/python3.11/dist-packages (from orbax-checkpoint->flax>=0.7.2->tensorflowjs) (3.20.1)\n",
            "Requirement already satisfied: python-dateutil>=2.8.2 in /usr/local/lib/python3.11/dist-packages (from pandas->tensorflow-decision-forests>=1.5.0->tensorflowjs) (2.9.0.post0)\n",
            "Requirement already satisfied: pytz>=2020.1 in /usr/local/lib/python3.11/dist-packages (from pandas->tensorflow-decision-forests>=1.5.0->tensorflowjs) (2025.2)\n",
            "Requirement already satisfied: tzdata>=2022.7 in /usr/local/lib/python3.11/dist-packages (from pandas->tensorflow-decision-forests>=1.5.0->tensorflowjs) (2025.2)\n",
            "Requirement already satisfied: toolz>=0.9.0 in /usr/local/lib/python3.11/dist-packages (from chex>=0.1.87->optax->flax>=0.7.2->tensorflowjs) (0.12.1)\n",
            "Requirement already satisfied: mdurl~=0.1 in /usr/local/lib/python3.11/dist-packages (from markdown-it-py>=2.2.0->rich>=11.1->flax>=0.7.2->tensorflowjs) (0.1.2)\n",
            "Requirement already satisfied: MarkupSafe>=2.1.1 in /usr/local/lib/python3.11/dist-packages (from werkzeug>=1.0.1->tensorboard<2.19,>=2.18->tensorflow<3,>=2.13.0->tensorflowjs) (3.0.2)\n",
            "Requirement already satisfied: fsspec in /usr/local/lib/python3.11/dist-packages (from etils[epath,epy]->orbax-checkpoint->flax>=0.7.2->tensorflowjs) (2025.3.2)\n",
            "Requirement already satisfied: zipp in /usr/local/lib/python3.11/dist-packages (from etils[epath,epy]->orbax-checkpoint->flax>=0.7.2->tensorflowjs) (3.23.0)\n",
            "2025-07-04 04:36:42.173154: E external/local_xla/xla/stream_executor/cuda/cuda_fft.cc:477] Unable to register cuFFT factory: Attempting to register factory for plugin cuFFT when one has already been registered\n",
            "WARNING: All log messages before absl::InitializeLog() is called are written to STDERR\n",
            "E0000 00:00:1751603802.215809   15407 cuda_dnn.cc:8310] Unable to register cuDNN factory: Attempting to register factory for plugin cuDNN when one has already been registered\n",
            "E0000 00:00:1751603802.228297   15407 cuda_blas.cc:1418] Unable to register cuBLAS factory: Attempting to register factory for plugin cuBLAS when one has already been registered\n",
            "\u001b[32m🌲 Try \u001b[0m\u001b[34mhttps://ydf.readthedocs.io\u001b[0m\u001b[32m, the successor of TensorFlow Decision Forests with more features and faster training!\u001b[0m\n",
            "2025-07-04 04:36:48.384060: E external/local_xla/xla/stream_executor/cuda/cuda_driver.cc:152] failed call to cuInit: INTERNAL: CUDA error: Failed call to cuInit: UNKNOWN ERROR (303)\n",
            "I0000 00:00:1751603809.107690   15407 devices.cc:67] Number of eligible GPUs (core count >= 8, compute capability >= 0.0): 0\n",
            "WARNING: All log messages before absl::InitializeLog() is called are written to STDERR\n",
            "I0000 00:00:1751603809.107891   15407 single_machine.cc:361] Starting new session\n"
          ]
        }
      ],
      "source": [
        "\n",
        "# TensorFlow.js format\n",
        "!pip install tensorflowjs\n",
        "!mkdir -p submission/tfjs_model\n",
        "!tensorflowjs_converter --input_format=tf_saved_model submission/saved_model submission/tfjs_model\n"
      ]
    },
    {
      "cell_type": "markdown",
      "id": "79cf287f",
      "metadata": {
        "id": "79cf287f"
      },
      "source": [
        "## 7. Simpan requirements.txt dan README.md"
      ]
    },
    {
      "cell_type": "code",
      "execution_count": 11,
      "id": "8be52c5a",
      "metadata": {
        "id": "8be52c5a"
      },
      "outputs": [],
      "source": [
        "\n",
        "!pip freeze > submission/requirements.txt\n",
        "\n",
        "with open(\"submission/README.md\", \"w\") as f:\n",
        "    f.write(\"# Image Classification Submission\\n\\nThis project classifies dog breeds using a CNN model built with TensorFlow/Keras.\\n\")\n"
      ]
    },
    {
      "cell_type": "code",
      "execution_count": 12,
      "id": "ftTei1lKcYE_",
      "metadata": {
        "id": "ftTei1lKcYE_",
        "colab": {
          "base_uri": "https://localhost:8080/"
        },
        "outputId": "681e5392-2f67-453c-8d30-25f881362694"
      },
      "outputs": [
        {
          "output_type": "stream",
          "name": "stdout",
          "text": [
            "  adding: submission/ (stored 0%)\n",
            "  adding: submission/tfjs_model/ (stored 0%)\n",
            "  adding: submission/tfjs_model/group1-shard14of46.bin (deflated 7%)\n",
            "  adding: submission/tfjs_model/group1-shard27of46.bin (deflated 7%)\n",
            "  adding: submission/tfjs_model/group1-shard2of46.bin (deflated 8%)\n",
            "  adding: submission/tfjs_model/group1-shard28of46.bin (deflated 8%)\n",
            "  adding: submission/tfjs_model/group1-shard34of46.bin (deflated 7%)\n",
            "  adding: submission/tfjs_model/group1-shard25of46.bin (deflated 8%)\n",
            "  adding: submission/tfjs_model/group1-shard26of46.bin (deflated 8%)\n",
            "  adding: submission/tfjs_model/group1-shard44of46.bin (deflated 8%)\n",
            "  adding: submission/tfjs_model/group1-shard18of46.bin (deflated 8%)\n",
            "  adding: submission/tfjs_model/group1-shard5of46.bin (deflated 8%)\n",
            "  adding: submission/tfjs_model/group1-shard40of46.bin (deflated 7%)\n",
            "  adding: submission/tfjs_model/group1-shard29of46.bin (deflated 7%)\n",
            "  adding: submission/tfjs_model/group1-shard8of46.bin (deflated 8%)\n",
            "  adding: submission/tfjs_model/group1-shard46of46.bin (deflated 7%)\n",
            "  adding: submission/tfjs_model/group1-shard35of46.bin (deflated 7%)\n",
            "  adding: submission/tfjs_model/group1-shard43of46.bin (deflated 7%)\n",
            "  adding: submission/tfjs_model/group1-shard12of46.bin (deflated 8%)\n",
            "  adding: submission/tfjs_model/group1-shard9of46.bin (deflated 8%)\n",
            "  adding: submission/tfjs_model/group1-shard24of46.bin (deflated 8%)\n",
            "  adding: submission/tfjs_model/group1-shard21of46.bin (deflated 7%)\n",
            "  adding: submission/tfjs_model/group1-shard23of46.bin (deflated 8%)\n",
            "  adding: submission/tfjs_model/group1-shard6of46.bin (deflated 8%)\n",
            "  adding: submission/tfjs_model/group1-shard7of46.bin (deflated 8%)\n",
            "  adding: submission/tfjs_model/group1-shard33of46.bin (deflated 7%)\n",
            "  adding: submission/tfjs_model/group1-shard4of46.bin (deflated 8%)\n",
            "  adding: submission/tfjs_model/group1-shard30of46.bin (deflated 8%)\n",
            "  adding: submission/tfjs_model/group1-shard13of46.bin (deflated 8%)\n",
            "  adding: submission/tfjs_model/group1-shard20of46.bin (deflated 8%)\n",
            "  adding: submission/tfjs_model/group1-shard15of46.bin (deflated 7%)\n",
            "  adding: submission/tfjs_model/group1-shard11of46.bin (deflated 7%)\n",
            "  adding: submission/tfjs_model/group1-shard1of46.bin (deflated 8%)\n",
            "  adding: submission/tfjs_model/group1-shard19of46.bin (deflated 8%)\n",
            "  adding: submission/tfjs_model/group1-shard37of46.bin (deflated 7%)\n",
            "  adding: submission/tfjs_model/group1-shard31of46.bin (deflated 7%)\n",
            "  adding: submission/tfjs_model/group1-shard3of46.bin (deflated 8%)\n",
            "  adding: submission/tfjs_model/group1-shard16of46.bin (deflated 7%)\n",
            "  adding: submission/tfjs_model/group1-shard39of46.bin (deflated 7%)\n",
            "  adding: submission/tfjs_model/group1-shard42of46.bin (deflated 7%)\n",
            "  adding: submission/tfjs_model/group1-shard38of46.bin (deflated 7%)\n",
            "  adding: submission/tfjs_model/model.json (deflated 87%)\n",
            "  adding: submission/tfjs_model/group1-shard36of46.bin (deflated 7%)\n",
            "  adding: submission/tfjs_model/group1-shard22of46.bin (deflated 7%)\n",
            "  adding: submission/tfjs_model/group1-shard17of46.bin (deflated 8%)\n",
            "  adding: submission/tfjs_model/group1-shard45of46.bin (deflated 8%)\n",
            "  adding: submission/tfjs_model/group1-shard32of46.bin (deflated 7%)\n",
            "  adding: submission/tfjs_model/group1-shard41of46.bin (deflated 7%)\n",
            "  adding: submission/tfjs_model/group1-shard10of46.bin (deflated 7%)\n",
            "  adding: submission/requirements.txt (deflated 57%)\n",
            "  adding: submission/tflite/ (stored 0%)\n",
            "  adding: submission/tflite/model.tflite (deflated 8%)\n",
            "  adding: submission/tflite/label.txt (stored 0%)\n",
            "  adding: submission/saved_model/ (stored 0%)\n",
            "  adding: submission/saved_model/fingerprint.pb (stored 0%)\n",
            "  adding: submission/saved_model/variables/ (stored 0%)\n",
            "  adding: submission/saved_model/variables/variables.data-00000-of-00001 (deflated 8%)\n",
            "  adding: submission/saved_model/variables/variables.index (deflated 60%)\n",
            "  adding: submission/saved_model/saved_model.pb (deflated 84%)\n",
            "  adding: submission/saved_model/assets/ (stored 0%)\n",
            "  adding: submission/README.md (deflated 13%)\n"
          ]
        }
      ],
      "source": [
        "\n",
        "!zip -r submission.zip submission\n"
      ]
    }
  ],
  "metadata": {
    "colab": {
      "provenance": []
    },
    "kernelspec": {
      "display_name": "Python 3",
      "name": "python3"
    },
    "language_info": {
      "name": "python"
    }
  },
  "nbformat": 4,
  "nbformat_minor": 5
}